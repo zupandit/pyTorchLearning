{
  "nbformat": 4,
  "nbformat_minor": 0,
  "metadata": {
    "colab": {
      "provenance": [],
      "gpuType": "T4",
      "authorship_tag": "ABX9TyNK7nxtC7L3+ylmEou1Lt3d",
      "include_colab_link": true
    },
    "kernelspec": {
      "name": "python3",
      "display_name": "Python 3"
    },
    "language_info": {
      "name": "python"
    },
    "accelerator": "GPU"
  },
  "cells": [
    {
      "cell_type": "markdown",
      "metadata": {
        "id": "view-in-github",
        "colab_type": "text"
      },
      "source": [
        "<a href=\"https://colab.research.google.com/github/zupandit/pyTorchLearning/blob/main/00_pytorch_fundementals.ipynb\" target=\"_parent\"><img src=\"https://colab.research.google.com/assets/colab-badge.svg\" alt=\"Open In Colab\"/></a>"
      ]
    },
    {
      "cell_type": "code",
      "execution_count": 1,
      "metadata": {
        "id": "MGVgXfdD-Snj"
      },
      "outputs": [],
      "source": [
        "import torch\n",
        "import pandas as pd\n",
        "import numpy as np\n",
        "import matplotlib.pyplot as plt"
      ]
    },
    {
      "cell_type": "code",
      "source": [
        "print(torch.__version__)"
      ],
      "metadata": {
        "colab": {
          "base_uri": "https://localhost:8080/"
        },
        "id": "eOKgalb9_JhM",
        "outputId": "6ee5acca-53a4-48fb-c3af-6bc5711933ff"
      },
      "execution_count": null,
      "outputs": [
        {
          "output_type": "stream",
          "name": "stdout",
          "text": [
            "2.2.1+cu121\n"
          ]
        }
      ]
    },
    {
      "cell_type": "code",
      "source": [
        "#scalar\n",
        "scalar = torch.tensor(7)\n",
        "print(scalar)\n",
        "print(scalar.ndim)\n",
        "print(scalar.item())"
      ],
      "metadata": {
        "colab": {
          "base_uri": "https://localhost:8080/"
        },
        "id": "qsMgoXRrAk1h",
        "outputId": "c8d71fb4-4d0c-40bc-f641-a52558568ef7"
      },
      "execution_count": null,
      "outputs": [
        {
          "output_type": "stream",
          "name": "stdout",
          "text": [
            "tensor(7)\n",
            "0\n",
            "7\n"
          ]
        }
      ]
    },
    {
      "cell_type": "code",
      "source": [
        "# Vector\n",
        "vector = torch.tensor([1,2])\n",
        "vector"
      ],
      "metadata": {
        "colab": {
          "base_uri": "https://localhost:8080/"
        },
        "id": "idqO0SQGCi3j",
        "outputId": "8ff55fca-f6e5-4f78-cf54-27aeedb7b673"
      },
      "execution_count": null,
      "outputs": [
        {
          "output_type": "execute_result",
          "data": {
            "text/plain": [
              "tensor([1, 2])"
            ]
          },
          "metadata": {},
          "execution_count": 26
        }
      ]
    },
    {
      "cell_type": "code",
      "source": [
        "#MATRIX\n",
        "\n",
        "MATRIX = torch.tensor([[7,8],\n",
        "                       [3,5]])\n",
        "MATRIX\n",
        "MATRIX.shape"
      ],
      "metadata": {
        "colab": {
          "base_uri": "https://localhost:8080/"
        },
        "id": "H7bpKeKPD1Vp",
        "outputId": "2d377253-250c-4b46-99bf-4cc47a2f3e36"
      },
      "execution_count": null,
      "outputs": [
        {
          "output_type": "execute_result",
          "data": {
            "text/plain": [
              "torch.Size([2, 2])"
            ]
          },
          "metadata": {},
          "execution_count": 14
        }
      ]
    },
    {
      "cell_type": "code",
      "source": [
        "#TENSOR\n",
        "\n",
        "TENSOR = torch.tensor([[[1,2,3],\n",
        "                        [3,6,9],\n",
        "                        [2,4,5]]])\n",
        "TENSOR.shape"
      ],
      "metadata": {
        "colab": {
          "base_uri": "https://localhost:8080/"
        },
        "id": "ojZtGgaxETXm",
        "outputId": "a6b1ae79-f959-4420-9e43-7cb9b054ab3d"
      },
      "execution_count": null,
      "outputs": [
        {
          "output_type": "execute_result",
          "data": {
            "text/plain": [
              "torch.Size([1, 3, 3])"
            ]
          },
          "metadata": {},
          "execution_count": 16
        }
      ]
    },
    {
      "cell_type": "code",
      "source": [
        "TENSOR = torch.tensor([[[1,2,3],[1,2,3]]]\n",
        ")\n",
        "TENSOR.shape"
      ],
      "metadata": {
        "colab": {
          "base_uri": "https://localhost:8080/"
        },
        "id": "hxwka995E6Ah",
        "outputId": "881e6fae-4086-4a78-b65b-a9611651dece"
      },
      "execution_count": null,
      "outputs": [
        {
          "output_type": "execute_result",
          "data": {
            "text/plain": [
              "torch.Size([1, 2, 3])"
            ]
          },
          "metadata": {},
          "execution_count": 23
        }
      ]
    },
    {
      "cell_type": "code",
      "source": [
        "vector = torch.tensor([[1,2,3],\n",
        "                       [4,5,6]])\n",
        "vector.shape"
      ],
      "metadata": {
        "colab": {
          "base_uri": "https://localhost:8080/"
        },
        "id": "7N-D1ai9Jhnm",
        "outputId": "d58b32ae-e838-4d02-d90e-e4f7183065cc"
      },
      "execution_count": null,
      "outputs": [
        {
          "output_type": "execute_result",
          "data": {
            "text/plain": [
              "torch.Size([2, 3])"
            ]
          },
          "metadata": {},
          "execution_count": 10
        }
      ]
    },
    {
      "cell_type": "code",
      "source": [
        "#Random Tensors\n",
        "RAND_TENSOR = torch.rand(1,2,3)\n",
        "RAND_TENSOR\n"
      ],
      "metadata": {
        "id": "AuuZGatvLF5F",
        "colab": {
          "base_uri": "https://localhost:8080/"
        },
        "outputId": "33c47a28-7eac-47d2-dbb3-aa2c536f0bb0"
      },
      "execution_count": null,
      "outputs": [
        {
          "output_type": "execute_result",
          "data": {
            "text/plain": [
              "tensor([[[0.4561, 0.8049, 0.0392],\n",
              "         [0.3941, 0.9171, 0.3499]]])"
            ]
          },
          "metadata": {},
          "execution_count": 24
        }
      ]
    },
    {
      "cell_type": "code",
      "source": [
        "#Zero tensors\n",
        "ZERO_TENSOR = torch.zeros(3,1)\n",
        "ZERO_TENSOR"
      ],
      "metadata": {
        "colab": {
          "base_uri": "https://localhost:8080/"
        },
        "id": "mBpbpX0YOyp4",
        "outputId": "df8dbda5-a8d1-47eb-e135-a46f1361f715"
      },
      "execution_count": null,
      "outputs": [
        {
          "output_type": "execute_result",
          "data": {
            "text/plain": [
              "tensor([[0.],\n",
              "        [0.],\n",
              "        [0.]])"
            ]
          },
          "metadata": {},
          "execution_count": 34
        }
      ]
    },
    {
      "cell_type": "code",
      "source": [
        "#ONES tensors\n",
        "ONE_T = torch.ones(size=(3,3))\n",
        "ONE_T"
      ],
      "metadata": {
        "colab": {
          "base_uri": "https://localhost:8080/"
        },
        "id": "-qnJK70gRMa7",
        "outputId": "12b00ba1-3027-4423-ecad-aa015e5dd23d"
      },
      "execution_count": null,
      "outputs": [
        {
          "output_type": "execute_result",
          "data": {
            "text/plain": [
              "tensor([[1., 1., 1.],\n",
              "        [1., 1., 1.],\n",
              "        [1., 1., 1.]])"
            ]
          },
          "metadata": {},
          "execution_count": 31
        }
      ]
    },
    {
      "cell_type": "code",
      "source": [
        "#You can essentially do some masking with these:\n",
        "\n",
        "#For eg I have my one and zero tensors. Lets multiply them and see the result\n",
        "ONE_T*ZERO_TENSOR"
      ],
      "metadata": {
        "colab": {
          "base_uri": "https://localhost:8080/"
        },
        "id": "_nOLINz6RV3D",
        "outputId": "28c2d333-0c9a-476a-a4ee-781e64ab0a41"
      },
      "execution_count": null,
      "outputs": [
        {
          "output_type": "execute_result",
          "data": {
            "text/plain": [
              "tensor([[0., 0., 0.],\n",
              "        [0., 0., 0.],\n",
              "        [0., 0., 0.]])"
            ]
          },
          "metadata": {},
          "execution_count": 36
        }
      ]
    },
    {
      "cell_type": "code",
      "source": [
        "#Creating numbers in a range\n",
        "one_ten = torch.arange(1,11)\n",
        "one_ten"
      ],
      "metadata": {
        "colab": {
          "base_uri": "https://localhost:8080/"
        },
        "id": "oFgGlCFPRz_i",
        "outputId": "552fba80-cbf5-421b-b067-00f7ef9703d3"
      },
      "execution_count": null,
      "outputs": [
        {
          "output_type": "execute_result",
          "data": {
            "text/plain": [
              "tensor([ 1,  2,  3,  4,  5,  6,  7,  8,  9, 10])"
            ]
          },
          "metadata": {},
          "execution_count": 37
        }
      ]
    },
    {
      "cell_type": "code",
      "source": [
        "zero_thousand_100 = torch.arange(start=0,end=1001, step=100)\n",
        "zero_thousand_100"
      ],
      "metadata": {
        "colab": {
          "base_uri": "https://localhost:8080/"
        },
        "id": "pGFC4XncTMfW",
        "outputId": "254bf598-250e-4bb4-a7a9-d43848997ddc"
      },
      "execution_count": null,
      "outputs": [
        {
          "output_type": "execute_result",
          "data": {
            "text/plain": [
              "tensor([   0,  100,  200,  300,  400,  500,  600,  700,  800,  900, 1000])"
            ]
          },
          "metadata": {},
          "execution_count": 41
        }
      ]
    },
    {
      "cell_type": "code",
      "source": [
        "#Creating tensors that are LIKE other tensors\n",
        "zero_like = torch.zeros_like(input=one_ten)\n",
        "zero_like"
      ],
      "metadata": {
        "colab": {
          "base_uri": "https://localhost:8080/"
        },
        "id": "l6eAgKxcTXs5",
        "outputId": "ea013177-fe26-4ad5-e4c6-8361215004f5"
      },
      "execution_count": null,
      "outputs": [
        {
          "output_type": "execute_result",
          "data": {
            "text/plain": [
              "tensor([0, 0, 0, 0, 0, 0, 0, 0, 0, 0])"
            ]
          },
          "metadata": {},
          "execution_count": 42
        }
      ]
    },
    {
      "cell_type": "code",
      "source": [
        "#Float 32 tensor\n",
        "float_32_TENSOR = torch.tensor([1.0])\n",
        "float_32_TENSOR.dtype"
      ],
      "metadata": {
        "colab": {
          "base_uri": "https://localhost:8080/"
        },
        "id": "08gyC2l2T0-I",
        "outputId": "93c41f1d-bbe4-4a02-bffb-7701b9f2c6c2"
      },
      "execution_count": null,
      "outputs": [
        {
          "output_type": "execute_result",
          "data": {
            "text/plain": [
              "torch.float32"
            ]
          },
          "metadata": {},
          "execution_count": 6
        }
      ]
    },
    {
      "cell_type": "code",
      "source": [
        "float_16_TENSOR = float_32_TENSOR.type(torch.half)\n",
        "float_16_TENSOR"
      ],
      "metadata": {
        "colab": {
          "base_uri": "https://localhost:8080/"
        },
        "id": "WTXr1ZzwqRqM",
        "outputId": "467a0d95-abfb-4ee6-9c35-5c1bd668dee5"
      },
      "execution_count": null,
      "outputs": [
        {
          "output_type": "execute_result",
          "data": {
            "text/plain": [
              "tensor([1.], dtype=torch.float16)"
            ]
          },
          "metadata": {},
          "execution_count": 11
        }
      ]
    },
    {
      "cell_type": "markdown",
      "source": [],
      "metadata": {
        "id": "UKE8X5Kvw6B8"
      }
    },
    {
      "cell_type": "markdown",
      "source": [],
      "metadata": {
        "id": "pXCaXBhPw5_M"
      }
    },
    {
      "cell_type": "code",
      "source": [
        "some_tensor = torch.rand((2,3), dtype=torch.float16)\n",
        "some_tensor"
      ],
      "metadata": {
        "colab": {
          "base_uri": "https://localhost:8080/"
        },
        "id": "A86frsPSshEL",
        "outputId": "3caf7970-9709-4580-bc56-09cc9628dd82"
      },
      "execution_count": null,
      "outputs": [
        {
          "output_type": "execute_result",
          "data": {
            "text/plain": [
              "tensor([[0.2988, 0.6631, 0.6597],\n",
              "        [0.1338, 0.0723, 0.9824]], dtype=torch.float16)"
            ]
          },
          "metadata": {},
          "execution_count": 25
        }
      ]
    },
    {
      "cell_type": "code",
      "source": [
        "mat1 = torch.tensor([1,2,3])\n",
        "mat2 = torch.tensor([1,1,1])\n",
        "print(mat1.shape)\n",
        "\n",
        "mat3 = torch.matmul(mat1, mat2)\n",
        "mat3"
      ],
      "metadata": {
        "colab": {
          "base_uri": "https://localhost:8080/"
        },
        "id": "h-jpl9UMu33r",
        "outputId": "23c943b6-e3b6-4724-eb8c-0271eb4203d5"
      },
      "execution_count": null,
      "outputs": [
        {
          "output_type": "stream",
          "name": "stdout",
          "text": [
            "torch.Size([3])\n"
          ]
        },
        {
          "output_type": "execute_result",
          "data": {
            "text/plain": [
              "tensor(6)"
            ]
          },
          "metadata": {},
          "execution_count": 29
        }
      ]
    },
    {
      "cell_type": "code",
      "source": [
        "#So for matrix mul obv the columns of the first matrix and the rows of the second matrix\n",
        "# must be the same. The dimension of the resulting matrix will be the rows of the mat1 and\n",
        "# columns of mat2.\n",
        "\n",
        "#This is why:\n",
        "mat1 @ mat2\n",
        "# works even though the 1*3 and 1*3 matrices should technically not work.\n",
        "# They work because if we do tensor.shape we get 3 for both of them therefore\n",
        "# as per torch's rules they can be multiplied\n",
        "\n",
        "#but\n",
        "# torch.rand(1,2)@ torch.rand(3,2) will not work\n",
        "# RuntimeError: mat1 and mat2 shapes cannot be multiplied (1x2 and 3x2)\n",
        "\n",
        "#Normal matrix multiplication works fine\n",
        "t3 = torch.rand(1,2)@torch.rand(2,1)\n",
        "print(t3)\n",
        "t3.shape\n",
        "\n",
        "# and the resulting shape is 1*1\n",
        "\n"
      ],
      "metadata": {
        "colab": {
          "base_uri": "https://localhost:8080/"
        },
        "id": "IPmmMc_F5b8Q",
        "outputId": "ad79f63a-9ddb-4c7a-d4ae-545dcba08150"
      },
      "execution_count": null,
      "outputs": [
        {
          "output_type": "stream",
          "name": "stdout",
          "text": [
            "tensor([[0.2950]])\n"
          ]
        },
        {
          "output_type": "execute_result",
          "data": {
            "text/plain": [
              "torch.Size([1, 1])"
            ]
          },
          "metadata": {},
          "execution_count": 34
        }
      ]
    },
    {
      "cell_type": "code",
      "source": [
        "# Tensors of shape 3.2 and 3.2 cannot be multiplied\n",
        "# but if we transpose one of them, we get 3.2 and 2.3 which should work\n",
        "\n",
        "tensor_A = torch.tensor([[1,2],\n",
        "            [1,2],\n",
        "            [1,2]])\n",
        "\n",
        "tensor_B = torch.tensor([[2,3],\n",
        "            [2,3],\n",
        "            [2,3]])\n",
        "\n",
        "tensor_A\n",
        "\n",
        "# tensor_A @ tensor_B --> this gives an error\n",
        "tensor_A_transpose = tensor_A.T\n",
        "\n",
        "tensor_A_transpose@tensor_B\n",
        "\n",
        "# tensor.T ; the T gives us the transpose"
      ],
      "metadata": {
        "colab": {
          "base_uri": "https://localhost:8080/"
        },
        "id": "NfLKxvwu7r5m",
        "outputId": "20186a06-2dc2-4b8f-8924-4f3e0a1683a2"
      },
      "execution_count": null,
      "outputs": [
        {
          "output_type": "execute_result",
          "data": {
            "text/plain": [
              "tensor([[ 6,  9],\n",
              "        [12, 18]])"
            ]
          },
          "metadata": {},
          "execution_count": 40
        }
      ]
    },
    {
      "cell_type": "code",
      "source": [
        "#Tensor aggregation. Finding things like min max mean sum etc\n",
        "X = torch.arange(0,100,10)\n",
        "X"
      ],
      "metadata": {
        "id": "H1i4RQSM9zZR",
        "colab": {
          "base_uri": "https://localhost:8080/"
        },
        "outputId": "16be3f85-b329-4978-9b5a-bb9be8f16e3c"
      },
      "execution_count": 3,
      "outputs": [
        {
          "output_type": "execute_result",
          "data": {
            "text/plain": [
              "tensor([ 0, 10, 20, 30, 40, 50, 60, 70, 80, 90])"
            ]
          },
          "metadata": {},
          "execution_count": 3
        }
      ]
    },
    {
      "cell_type": "code",
      "source": [
        "#Min:\n",
        "min = X.amin()\n",
        "min\n",
        "max = X.amax()\n",
        "max"
      ],
      "metadata": {
        "colab": {
          "base_uri": "https://localhost:8080/"
        },
        "id": "nCdXBjkljdTX",
        "outputId": "45d72607-b21c-42dd-873b-78aa1af48692"
      },
      "execution_count": 6,
      "outputs": [
        {
          "output_type": "execute_result",
          "data": {
            "text/plain": [
              "tensor(90)"
            ]
          },
          "metadata": {},
          "execution_count": 6
        }
      ]
    },
    {
      "cell_type": "code",
      "source": [
        "#mean\n",
        "torch.mean(X.type(torch.float32))"
      ],
      "metadata": {
        "colab": {
          "base_uri": "https://localhost:8080/"
        },
        "id": "L1-mRVvUjlV7",
        "outputId": "b31e5d8f-6b9f-4d8b-b620-eb8b3456ac06"
      },
      "execution_count": 11,
      "outputs": [
        {
          "output_type": "execute_result",
          "data": {
            "text/plain": [
              "tensor(45.)"
            ]
          },
          "metadata": {},
          "execution_count": 11
        }
      ]
    },
    {
      "cell_type": "code",
      "source": [
        "#Sum\n",
        "torch.sum(X)"
      ],
      "metadata": {
        "colab": {
          "base_uri": "https://localhost:8080/"
        },
        "id": "kWHZCmzyj-Yu",
        "outputId": "90966092-6314-41ac-a4e7-5713ee04806f"
      },
      "execution_count": 12,
      "outputs": [
        {
          "output_type": "execute_result",
          "data": {
            "text/plain": [
              "tensor(450)"
            ]
          },
          "metadata": {},
          "execution_count": 12
        }
      ]
    },
    {
      "cell_type": "code",
      "source": [
        "%%time\n",
        "min = X.min()\n",
        "min_index = (X == min).nonzero(as_tuple = True)[0]\n",
        "min_index\n",
        "\n",
        "#The above code converts tensor to a boolean tensor where only indices at which the\n",
        "# value is equal to min are set to true. Next we use .nonzero() to only get the true indices\n",
        "# in a tuiple since true = 1. And at last,we return the first index"
      ],
      "metadata": {
        "colab": {
          "base_uri": "https://localhost:8080/"
        },
        "id": "zTc93HbvlKT4",
        "outputId": "e5a7412f-93e3-4217-8968-05f0327b3e8c"
      },
      "execution_count": 31,
      "outputs": [
        {
          "output_type": "stream",
          "name": "stdout",
          "text": [
            "CPU times: user 251 µs, sys: 8 µs, total: 259 µs\n",
            "Wall time: 264 µs\n"
          ]
        },
        {
          "output_type": "execute_result",
          "data": {
            "text/plain": [
              "tensor([0])"
            ]
          },
          "metadata": {},
          "execution_count": 31
        }
      ]
    },
    {
      "cell_type": "code",
      "source": [
        "#Alternatively we can use something like arg min\n",
        "min_index_arg = X.argmin()\n",
        "min_index_arg\n",
        "\n",
        "max_index = X.argmax()\n",
        "max_index"
      ],
      "metadata": {
        "colab": {
          "base_uri": "https://localhost:8080/"
        },
        "id": "lptE8DeEl9AK",
        "outputId": "54ca802a-4be5-4967-fc62-9ebec77ba485"
      },
      "execution_count": 34,
      "outputs": [
        {
          "output_type": "execute_result",
          "data": {
            "text/plain": [
              "tensor(9)"
            ]
          },
          "metadata": {},
          "execution_count": 34
        }
      ]
    },
    {
      "cell_type": "code",
      "source": [
        "y = torch.arange(1., 10.)\n",
        "y"
      ],
      "metadata": {
        "colab": {
          "base_uri": "https://localhost:8080/"
        },
        "id": "VtfnUMEPpCuM",
        "outputId": "004f0a0e-ae38-4dbf-ae57-f8d053e0b339"
      },
      "execution_count": 36,
      "outputs": [
        {
          "output_type": "execute_result",
          "data": {
            "text/plain": [
              "tensor([1., 2., 3., 4., 5., 6., 7., 8., 9.])"
            ]
          },
          "metadata": {},
          "execution_count": 36
        }
      ]
    },
    {
      "cell_type": "code",
      "source": [
        "#Reshaping the tensor\n",
        "y_reshaped = y.reshape(1,9) #This added an extra y dimension to our tensor\n",
        "y_reshaped"
      ],
      "metadata": {
        "colab": {
          "base_uri": "https://localhost:8080/"
        },
        "id": "CxwHJLtms5v2",
        "outputId": "7b11156d-1b3c-429f-f72e-b2516c074a63"
      },
      "execution_count": 37,
      "outputs": [
        {
          "output_type": "execute_result",
          "data": {
            "text/plain": [
              "tensor([[1., 2., 3., 4., 5., 6., 7., 8., 9.]])"
            ]
          },
          "metadata": {},
          "execution_count": 37
        }
      ]
    },
    {
      "cell_type": "code",
      "source": [
        "# y_reshaped_2 = y.reshape(2,9)\n",
        "# y_reshaped_2\n",
        "# This gives an error^\n",
        "# we only have 9 elements so how can we make an 18 element tensor\n",
        "\n",
        "# On the other hand we can do of shape 9*1 since we do have 9 elements\n",
        "y_reshaped_2 = y.reshape(9,1)\n",
        "y_reshaped_2"
      ],
      "metadata": {
        "colab": {
          "base_uri": "https://localhost:8080/"
        },
        "id": "TURMpxwZtNC_",
        "outputId": "bb9d1ac5-0c86-4700-d432-650a813206a3"
      },
      "execution_count": 39,
      "outputs": [
        {
          "output_type": "execute_result",
          "data": {
            "text/plain": [
              "tensor([[1.],\n",
              "        [2.],\n",
              "        [3.],\n",
              "        [4.],\n",
              "        [5.],\n",
              "        [6.],\n",
              "        [7.],\n",
              "        [8.],\n",
              "        [9.]])"
            ]
          },
          "metadata": {},
          "execution_count": 39
        }
      ]
    },
    {
      "cell_type": "code",
      "source": [
        "#We can reshaope a tensor in any way as long as no. of elements are not changed\n",
        "ten_tensor = torch.arange(1.0, 11.0)\n",
        "ten_tensor\n",
        "ten_tensor_reshape = ten_tensor.reshape(5,2)\n",
        "ten_tensor_reshaped_otherway = ten_tensor.reshape(2,5)\n",
        "print(ten_tensor_reshape)\n",
        "print(ten_tensor_reshaped_otherway)"
      ],
      "metadata": {
        "colab": {
          "base_uri": "https://localhost:8080/"
        },
        "id": "cwmY5hY1tYPB",
        "outputId": "1733bc81-6bef-493e-d032-6e891475106e"
      },
      "execution_count": 42,
      "outputs": [
        {
          "output_type": "stream",
          "name": "stdout",
          "text": [
            "tensor([[ 1.,  2.],\n",
            "        [ 3.,  4.],\n",
            "        [ 5.,  6.],\n",
            "        [ 7.,  8.],\n",
            "        [ 9., 10.]])\n",
            "tensor([[ 1.,  2.,  3.,  4.,  5.],\n",
            "        [ 6.,  7.,  8.,  9., 10.]])\n"
          ]
        }
      ]
    },
    {
      "cell_type": "code",
      "source": [
        "#We can change change the view of a tensor and store the new\n",
        "# way to view the tensor in a different variable. But they will still refer to\n",
        "# same tensor. So if the tensor in memory is changed, both the tensors\n",
        "# will change\n",
        "\n",
        "x = torch.arange(1.,11.,1)\n",
        "# print(x)\n",
        "y = x.view(2,5)\n",
        "# print(y)\n",
        "#Now if we change y\n",
        "y[0][0] = 11.0\n",
        "print(y)\n",
        "print(x)\n",
        "#Just changing y changed both x and y"
      ],
      "metadata": {
        "colab": {
          "base_uri": "https://localhost:8080/"
        },
        "id": "MVrdoBHZuN1u",
        "outputId": "96c1b267-1d37-44bf-f6e3-d4cc804b95d6"
      },
      "execution_count": 9,
      "outputs": [
        {
          "output_type": "stream",
          "name": "stdout",
          "text": [
            "tensor([[11.,  2.,  3.,  4.,  5.],\n",
            "        [ 6.,  7.,  8.,  9., 10.]])\n",
            "tensor([11.,  2.,  3.,  4.,  5.,  6.,  7.,  8.,  9., 10.])\n"
          ]
        }
      ]
    },
    {
      "cell_type": "code",
      "source": [
        "#In stacking, I think dimension lets up specify on which dimension\n",
        "# should stacking happen. When dim=0, we stack on x axis and so on\n",
        "x_stacked = torch.stack([x,x,x,x], dim=0)\n",
        "x_stacked\n",
        "# I think h stack is stack but dim = 1 and v stack is dim =0"
      ],
      "metadata": {
        "colab": {
          "base_uri": "https://localhost:8080/"
        },
        "id": "UOdqoo3WMnYG",
        "outputId": "04851b18-d6db-4c0c-a3b0-9f90a0477d49"
      },
      "execution_count": 15,
      "outputs": [
        {
          "output_type": "execute_result",
          "data": {
            "text/plain": [
              "tensor([[11.,  2.,  3.,  4.,  5.,  6.,  7.,  8.,  9., 10.],\n",
              "        [11.,  2.,  3.,  4.,  5.,  6.,  7.,  8.,  9., 10.],\n",
              "        [11.,  2.,  3.,  4.,  5.,  6.,  7.,  8.,  9., 10.],\n",
              "        [11.,  2.,  3.,  4.,  5.,  6.,  7.,  8.,  9., 10.]])"
            ]
          },
          "metadata": {},
          "execution_count": 15
        }
      ]
    },
    {
      "cell_type": "code",
      "source": [
        "#Squeeze removes dimensions of size 1 from specified axis\n",
        "# for e.g. the first dimension from the left side here\n",
        "# is deleted\n",
        "x = torch.zeros(1,1,2,1,2)\n",
        "y = torch.squeeze(x,0)\n",
        "print(y.size())\n",
        "\n",
        "#now lets delete from the 2-nd last aka y axis\n",
        "y = torch.squeeze(x,3)\n",
        "print(y.shape)\n",
        "\n",
        "# Doing something like (x,4) would not do anything since on the 4th aka x axis\n",
        "# the dimension has more than 1 element\n",
        "\n",
        "rand_tensor = torch.tensor([[[1,2,3],\n",
        "                  [4,5,6]]])\n",
        "print(rand_tensor.squeeze(0).shape)\n",
        "\n",
        "# rand_tensor_mod = rand_tensor.squeeze()\n",
        "\n",
        "#Unsqueeze does the opposite by adding a dimension of size 1 at specified pos.\n",
        "tensor_unsqueeze = torch.tensor([1,2,3])\n",
        "tensor_unsqueezed = torch.unsqueeze(tensor_unsqueeze,0)\n",
        "print(tensor_unsqueezed)\n",
        "#clearly, the tensor_unqueezed has an extra y dimension\n",
        "\n"
      ],
      "metadata": {
        "colab": {
          "base_uri": "https://localhost:8080/"
        },
        "id": "5y9eJdVuOKKR",
        "outputId": "bb3a9dbb-40a5-4718-b724-423047aab66b"
      },
      "execution_count": 38,
      "outputs": [
        {
          "output_type": "stream",
          "name": "stdout",
          "text": [
            "torch.Size([1, 2, 1, 2])\n",
            "torch.Size([1, 1, 2, 2])\n",
            "torch.Size([2, 3])\n",
            "tensor([[1, 2, 3]])\n"
          ]
        }
      ]
    },
    {
      "cell_type": "code",
      "source": [
        "#Permute: allows you to specify where to put the\n",
        "# dimensions of a tensor at. For e.g you can swap a 3*2 tensor to 2*3\n",
        "\n",
        "x = torch.rand(3,2)\n",
        "print(x.shape)\n",
        "x_permuted = x.permute(1,0)\n",
        "print(x_permuted.shape)\n",
        "\n",
        "#Keep in mind permute just changes the view. So, y references the same tensor as\n",
        "# x in memory\n"
      ],
      "metadata": {
        "colab": {
          "base_uri": "https://localhost:8080/"
        },
        "id": "XRVFYfC4P1Ti",
        "outputId": "d4e04ae0-1d63-4eeb-e876-4f3f93356582"
      },
      "execution_count": 3,
      "outputs": [
        {
          "output_type": "stream",
          "name": "stdout",
          "text": [
            "torch.Size([3, 2])\n",
            "torch.Size([2, 3])\n"
          ]
        }
      ]
    },
    {
      "cell_type": "code",
      "source": [
        "#Indexing in multi dim tensors\n",
        "x = torch.arange(1,10).reshape(1,3,3)\n",
        "x"
      ],
      "metadata": {
        "colab": {
          "base_uri": "https://localhost:8080/"
        },
        "id": "j-QuZP4jt4UQ",
        "outputId": "825adf8e-f91f-41d4-b8a4-70551eb63783"
      },
      "execution_count": 4,
      "outputs": [
        {
          "output_type": "execute_result",
          "data": {
            "text/plain": [
              "tensor([[[1, 2, 3],\n",
              "         [4, 5, 6],\n",
              "         [7, 8, 9]]])"
            ]
          },
          "metadata": {},
          "execution_count": 4
        }
      ]
    },
    {
      "cell_type": "code",
      "source": [
        "print(x[0]) #Z indexing\n",
        "print(x[0][0]) # Y\n",
        "print(x[0][0][0]) # X\n",
        "\n",
        "# Lets get the 2nd element from the 3rd y axis in the first z axis. Should be 8\n",
        "print(x[0,2,1]) # Same as x[0][2][1]"
      ],
      "metadata": {
        "colab": {
          "base_uri": "https://localhost:8080/"
        },
        "id": "C7kOQxupvv-G",
        "outputId": "46ad4442-9f91-4536-c8d2-7af2edd66c28"
      },
      "execution_count": 6,
      "outputs": [
        {
          "output_type": "stream",
          "name": "stdout",
          "text": [
            "tensor([[1, 2, 3],\n",
            "        [4, 5, 6],\n",
            "        [7, 8, 9]])\n",
            "tensor([1, 2, 3])\n",
            "tensor(1)\n",
            "tensor(8)\n"
          ]
        }
      ]
    },
    {
      "cell_type": "code",
      "source": [
        "import torch\n",
        "import pandas as pd\n",
        "import numpy as np\n",
        "import matplotlib.pyplot as plt"
      ],
      "metadata": {
        "id": "BqUIHKW_wGC4"
      },
      "execution_count": 8,
      "outputs": []
    },
    {
      "cell_type": "code",
      "source": [
        "# In indexing we can get all values from a specific index using :\n",
        "x = torch.arange(1,10).reshape(1,3,3)\n",
        "print(x)\n",
        "#All values from z and y dim but only middle ones from x\n",
        "print(x[:, :, 1])"
      ],
      "metadata": {
        "colab": {
          "base_uri": "https://localhost:8080/"
        },
        "id": "1Gyi02M2wtXb",
        "outputId": "ea992bcb-f30f-4994-e4cf-8d8e15020f53"
      },
      "execution_count": 9,
      "outputs": [
        {
          "output_type": "stream",
          "name": "stdout",
          "text": [
            "tensor([[[1, 2, 3],\n",
            "         [4, 5, 6],\n",
            "         [7, 8, 9]]])\n",
            "tensor([[2, 5, 8]])\n"
          ]
        }
      ]
    },
    {
      "cell_type": "code",
      "source": [
        "#All values of 0 dim but only 1 from all others\n",
        "print(x[:,1,1])"
      ],
      "metadata": {
        "colab": {
          "base_uri": "https://localhost:8080/"
        },
        "id": "npB698pOxbLU",
        "outputId": "57dc5568-c217-4299-a6f0-8dade64dff8e"
      },
      "execution_count": 11,
      "outputs": [
        {
          "output_type": "stream",
          "name": "stdout",
          "text": [
            "tensor([5])\n"
          ]
        }
      ]
    },
    {
      "cell_type": "code",
      "source": [
        "print(x[0,2,2])\n",
        "print(x[:,:,2] )"
      ],
      "metadata": {
        "colab": {
          "base_uri": "https://localhost:8080/"
        },
        "id": "YXzmWY0Qxvxr",
        "outputId": "20e86c67-5260-481f-b3d4-b11fbfb1742c"
      },
      "execution_count": 13,
      "outputs": [
        {
          "output_type": "stream",
          "name": "stdout",
          "text": [
            "tensor(9)\n",
            "tensor([[3, 6, 9]])\n"
          ]
        }
      ]
    },
    {
      "cell_type": "code",
      "source": [
        "#PyTorch tensors and NumPy\n",
        "# Data in NumpPy to PyTorch tensor -> torch.from_numpy(ndarray)\n",
        "# reverse is torch.Tensor.numpy()\n",
        "import torch\n",
        "import numpy as np\n",
        "\n",
        "array = np.arange(1.0,8.0)\n",
        "tensor = torch.from_numpy(array) #warning: numpy default dtype is float64\n",
        "print(array, tensor)\n",
        "print(tensor.type(torch.float32).dtype)"
      ],
      "metadata": {
        "colab": {
          "base_uri": "https://localhost:8080/"
        },
        "id": "aMzCKlgvyk2k",
        "outputId": "3cbf7aaf-a384-4887-a1dd-c7eb98fca265"
      },
      "execution_count": 17,
      "outputs": [
        {
          "output_type": "stream",
          "name": "stdout",
          "text": [
            "[1. 2. 3. 4. 5. 6. 7.] tensor([1., 2., 3., 4., 5., 6., 7.], dtype=torch.float64)\n",
            "torch.float32\n"
          ]
        }
      ]
    },
    {
      "cell_type": "code",
      "source": [
        "tensor = torch.ones(7)\n",
        "numpy_tensor = tensor.numpy()\n",
        "tensor, numpy_tensor"
      ],
      "metadata": {
        "colab": {
          "base_uri": "https://localhost:8080/"
        },
        "id": "1fJUcmHA_GcG",
        "outputId": "259e0a2e-3158-43af-ea69-44bc91fbd074"
      },
      "execution_count": 18,
      "outputs": [
        {
          "output_type": "execute_result",
          "data": {
            "text/plain": [
              "(tensor([1., 1., 1., 1., 1., 1., 1.]),\n",
              " array([1., 1., 1., 1., 1., 1., 1.], dtype=float32))"
            ]
          },
          "metadata": {},
          "execution_count": 18
        }
      ]
    },
    {
      "cell_type": "code",
      "source": [
        "numpy_tensor.dtype"
      ],
      "metadata": {
        "colab": {
          "base_uri": "https://localhost:8080/"
        },
        "id": "MYIzkCngAD-J",
        "outputId": "040f1c61-b509-4d8b-e43f-c7fe95292afc"
      },
      "execution_count": 19,
      "outputs": [
        {
          "output_type": "execute_result",
          "data": {
            "text/plain": [
              "dtype('float32')"
            ]
          },
          "metadata": {},
          "execution_count": 19
        }
      ]
    },
    {
      "cell_type": "code",
      "source": [
        "import torch\n",
        "\n",
        "random_t_a = torch.rand(3,4)\n",
        "random_t_b = torch.rand(3,4)\n",
        "\n",
        "print(random_t_a)\n",
        "print(random_t_b)\n",
        "print(random_t_a == random_t_b)"
      ],
      "metadata": {
        "colab": {
          "base_uri": "https://localhost:8080/"
        },
        "id": "-X22DQJ8AJ2N",
        "outputId": "f9c2db26-2830-41d6-9dc1-b8ad9cabdd4f"
      },
      "execution_count": 31,
      "outputs": [
        {
          "output_type": "stream",
          "name": "stdout",
          "text": [
            "tensor([[0.0687, 0.7665, 0.6895, 0.6511],\n",
            "        [0.0719, 0.2570, 0.1989, 0.9765],\n",
            "        [0.3727, 0.4607, 0.3294, 0.0876]])\n",
            "tensor([[0.0109, 0.3948, 0.7693, 0.6673],\n",
            "        [0.5468, 0.0698, 0.7967, 0.2384],\n",
            "        [0.0828, 0.9779, 0.1112, 0.6267]])\n",
            "tensor([[False, False, False, False],\n",
            "        [False, False, False, False],\n",
            "        [False, False, False, False]])\n"
          ]
        }
      ]
    },
    {
      "cell_type": "code",
      "source": [
        "RANDOM_SEED = 0\n",
        "torch.manual_seed(RANDOM_SEED)\n",
        "\n",
        "random_tensor_c = torch.rand(3,4)\n",
        "\n",
        "torch.manual_seed(RANDOM_SEED)\n",
        "random_tensor_d = torch.rand(3,4)\n",
        "\n",
        "\n",
        "print(random_tensor_d == random_tensor_c)"
      ],
      "metadata": {
        "colab": {
          "base_uri": "https://localhost:8080/"
        },
        "id": "NStkH-5NOPIu",
        "outputId": "36089df0-cf21-4936-dfb7-857660d3db28"
      },
      "execution_count": 37,
      "outputs": [
        {
          "output_type": "stream",
          "name": "stdout",
          "text": [
            "tensor([[True, True, True, True],\n",
            "        [True, True, True, True],\n",
            "        [True, True, True, True]])\n"
          ]
        }
      ]
    },
    {
      "cell_type": "code",
      "source": [
        "##Running tensors and pytorch objects on GPUs (faster computation)\n",
        "\n",
        "!nvidia-smi"
      ],
      "metadata": {
        "colab": {
          "base_uri": "https://localhost:8080/"
        },
        "id": "eVfUKUr-PSXG",
        "outputId": "739222e4-1948-4820-d897-15347c08255e"
      },
      "execution_count": 1,
      "outputs": [
        {
          "output_type": "stream",
          "name": "stdout",
          "text": [
            "Tue May 21 09:12:11 2024       \n",
            "+---------------------------------------------------------------------------------------+\n",
            "| NVIDIA-SMI 535.104.05             Driver Version: 535.104.05   CUDA Version: 12.2     |\n",
            "|-----------------------------------------+----------------------+----------------------+\n",
            "| GPU  Name                 Persistence-M | Bus-Id        Disp.A | Volatile Uncorr. ECC |\n",
            "| Fan  Temp   Perf          Pwr:Usage/Cap |         Memory-Usage | GPU-Util  Compute M. |\n",
            "|                                         |                      |               MIG M. |\n",
            "|=========================================+======================+======================|\n",
            "|   0  Tesla T4                       Off | 00000000:00:04.0 Off |                    0 |\n",
            "| N/A   62C    P8              12W /  70W |      0MiB / 15360MiB |      0%      Default |\n",
            "|                                         |                      |                  N/A |\n",
            "+-----------------------------------------+----------------------+----------------------+\n",
            "                                                                                         \n",
            "+---------------------------------------------------------------------------------------+\n",
            "| Processes:                                                                            |\n",
            "|  GPU   GI   CI        PID   Type   Process name                            GPU Memory |\n",
            "|        ID   ID                                                             Usage      |\n",
            "|=======================================================================================|\n",
            "|  No running processes found                                                           |\n",
            "+---------------------------------------------------------------------------------------+\n"
          ]
        }
      ]
    },
    {
      "cell_type": "code",
      "source": [
        "#Check GPU access with PyTorch\n",
        "import torch\n",
        "torch.cuda.is_available()"
      ],
      "metadata": {
        "colab": {
          "base_uri": "https://localhost:8080/"
        },
        "id": "2prqRBZ-bCVB",
        "outputId": "a40db6e9-377a-4f03-befd-2e8dc67ea9bc"
      },
      "execution_count": 2,
      "outputs": [
        {
          "output_type": "execute_result",
          "data": {
            "text/plain": [
              "True"
            ]
          },
          "metadata": {},
          "execution_count": 2
        }
      ]
    },
    {
      "cell_type": "code",
      "source": [
        "#Device agnostic code\n",
        "device = \"cuda\" if torch.cuda.is_available() else \"cpu\"\n",
        "device"
      ],
      "metadata": {
        "colab": {
          "base_uri": "https://localhost:8080/",
          "height": 35
        },
        "id": "KHATGw8wbraG",
        "outputId": "8618cf5a-d0fa-4e37-d9c6-0022f212bc5c"
      },
      "execution_count": 3,
      "outputs": [
        {
          "output_type": "execute_result",
          "data": {
            "text/plain": [
              "'cuda'"
            ],
            "application/vnd.google.colaboratory.intrinsic+json": {
              "type": "string"
            }
          },
          "metadata": {},
          "execution_count": 3
        }
      ]
    },
    {
      "cell_type": "code",
      "source": [
        "torch.cuda.device_count()"
      ],
      "metadata": {
        "colab": {
          "base_uri": "https://localhost:8080/"
        },
        "id": "zZ5ss8Y5b_u2",
        "outputId": "05b414ab-0331-4b80-f08c-8f3691723e94"
      },
      "execution_count": 4,
      "outputs": [
        {
          "output_type": "execute_result",
          "data": {
            "text/plain": [
              "1"
            ]
          },
          "metadata": {},
          "execution_count": 4
        }
      ]
    },
    {
      "cell_type": "code",
      "source": [
        "# Putting tensors and models on the GPU\n",
        "tensor = torch.tensor([1,2,3], device='cpu')\n",
        "\n",
        "print(tensor, tensor.device)"
      ],
      "metadata": {
        "colab": {
          "base_uri": "https://localhost:8080/"
        },
        "id": "XKFR0aIJcHh-",
        "outputId": "255982aa-2224-4061-b38a-36726877fb6d"
      },
      "execution_count": 5,
      "outputs": [
        {
          "output_type": "stream",
          "name": "stdout",
          "text": [
            "tensor([1, 2, 3]) cpu\n"
          ]
        }
      ]
    },
    {
      "cell_type": "code",
      "source": [
        "tensor_on_gpu = tensor.to(device)\n",
        "tensor_on_gpu"
      ],
      "metadata": {
        "colab": {
          "base_uri": "https://localhost:8080/"
        },
        "id": "R5Ye1LC8c-zB",
        "outputId": "81b3e002-b263-4449-eefa-51d066a6d31f"
      },
      "execution_count": 6,
      "outputs": [
        {
          "output_type": "execute_result",
          "data": {
            "text/plain": [
              "tensor([1, 2, 3], device='cuda:0')"
            ]
          },
          "metadata": {},
          "execution_count": 6
        }
      ]
    },
    {
      "cell_type": "code",
      "source": [
        "#Moving back to CPU\n",
        "tensor_on_cpu = tensor.to('cpu')\n",
        "tensor_on_cpu, tensor.device"
      ],
      "metadata": {
        "colab": {
          "base_uri": "https://localhost:8080/"
        },
        "id": "efQmjCi7dMTe",
        "outputId": "f586e2ad-d5b4-41ad-ae2a-7430e4c446a2"
      },
      "execution_count": 7,
      "outputs": [
        {
          "output_type": "execute_result",
          "data": {
            "text/plain": [
              "(tensor([1, 2, 3]), device(type='cpu'))"
            ]
          },
          "metadata": {},
          "execution_count": 7
        }
      ]
    },
    {
      "cell_type": "code",
      "source": [
        "# We cant use numpy with gpu tensors\n",
        "tensor_on_gpu = tensor.to(device)\n",
        "# numpyArray = tensor_on_gpu.numpy()TypeError: can't convert cuda:0 device type\n",
        "#  tensor to numpy. Use Tensor.cpu() to copy the tensor to host memory first.\n",
        "\n",
        "numpyArray = tensor_on_gpu.cpu().numpy()\n",
        "print(numpyArray)\n",
        "tensor_on_gpu"
      ],
      "metadata": {
        "colab": {
          "base_uri": "https://localhost:8080/"
        },
        "id": "jvU0ci6QdoM-",
        "outputId": "60672869-8f86-4443-f82f-43b4d9159bd0"
      },
      "execution_count": 12,
      "outputs": [
        {
          "output_type": "stream",
          "name": "stdout",
          "text": [
            "[1 2 3]\n"
          ]
        },
        {
          "output_type": "execute_result",
          "data": {
            "text/plain": [
              "tensor([1, 2, 3], device='cuda:0')"
            ]
          },
          "metadata": {},
          "execution_count": 12
        }
      ]
    },
    {
      "cell_type": "markdown",
      "source": [],
      "metadata": {
        "id": "--X7i8EmeXRz"
      }
    },
    {
      "cell_type": "code",
      "source": [
        "\n"
      ],
      "metadata": {
        "id": "HD40VCUyeCya"
      },
      "execution_count": null,
      "outputs": []
    }
  ]
}