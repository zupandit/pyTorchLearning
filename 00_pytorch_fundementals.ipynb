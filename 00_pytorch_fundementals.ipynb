{
  "nbformat": 4,
  "nbformat_minor": 0,
  "metadata": {
    "colab": {
      "provenance": [],
      "authorship_tag": "ABX9TyOGQcSKVqplrJnbTSY9BfB2",
      "include_colab_link": true
    },
    "kernelspec": {
      "name": "python3",
      "display_name": "Python 3"
    },
    "language_info": {
      "name": "python"
    }
  },
  "cells": [
    {
      "cell_type": "markdown",
      "metadata": {
        "id": "view-in-github",
        "colab_type": "text"
      },
      "source": [
        "<a href=\"https://colab.research.google.com/github/zupandit/pyTorchLearning/blob/main/00_pytorch_fundementals.ipynb\" target=\"_parent\"><img src=\"https://colab.research.google.com/assets/colab-badge.svg\" alt=\"Open In Colab\"/></a>"
      ]
    },
    {
      "cell_type": "code",
      "execution_count": 2,
      "metadata": {
        "id": "MGVgXfdD-Snj"
      },
      "outputs": [],
      "source": [
        "import torch\n",
        "import pandas as pd\n",
        "import numpy as np\n",
        "import matplotlib.pyplot as plt"
      ]
    },
    {
      "cell_type": "code",
      "source": [
        "print(torch.__version__)"
      ],
      "metadata": {
        "colab": {
          "base_uri": "https://localhost:8080/"
        },
        "id": "eOKgalb9_JhM",
        "outputId": "6ee5acca-53a4-48fb-c3af-6bc5711933ff"
      },
      "execution_count": null,
      "outputs": [
        {
          "output_type": "stream",
          "name": "stdout",
          "text": [
            "2.2.1+cu121\n"
          ]
        }
      ]
    },
    {
      "cell_type": "code",
      "source": [
        "#scalar\n",
        "scalar = torch.tensor(7)\n",
        "print(scalar)\n",
        "print(scalar.ndim)\n",
        "print(scalar.item())"
      ],
      "metadata": {
        "colab": {
          "base_uri": "https://localhost:8080/"
        },
        "id": "qsMgoXRrAk1h",
        "outputId": "c8d71fb4-4d0c-40bc-f641-a52558568ef7"
      },
      "execution_count": null,
      "outputs": [
        {
          "output_type": "stream",
          "name": "stdout",
          "text": [
            "tensor(7)\n",
            "0\n",
            "7\n"
          ]
        }
      ]
    },
    {
      "cell_type": "code",
      "source": [
        "# Vector\n",
        "vector = torch.tensor([1,2])\n",
        "vector"
      ],
      "metadata": {
        "colab": {
          "base_uri": "https://localhost:8080/"
        },
        "id": "idqO0SQGCi3j",
        "outputId": "8ff55fca-f6e5-4f78-cf54-27aeedb7b673"
      },
      "execution_count": 26,
      "outputs": [
        {
          "output_type": "execute_result",
          "data": {
            "text/plain": [
              "tensor([1, 2])"
            ]
          },
          "metadata": {},
          "execution_count": 26
        }
      ]
    },
    {
      "cell_type": "code",
      "source": [
        "#MATRIX\n",
        "\n",
        "MATRIX = torch.tensor([[7,8],\n",
        "                       [3,5]])\n",
        "MATRIX\n",
        "MATRIX.shape"
      ],
      "metadata": {
        "colab": {
          "base_uri": "https://localhost:8080/"
        },
        "id": "H7bpKeKPD1Vp",
        "outputId": "2d377253-250c-4b46-99bf-4cc47a2f3e36"
      },
      "execution_count": null,
      "outputs": [
        {
          "output_type": "execute_result",
          "data": {
            "text/plain": [
              "torch.Size([2, 2])"
            ]
          },
          "metadata": {},
          "execution_count": 14
        }
      ]
    },
    {
      "cell_type": "code",
      "source": [
        "#TENSOR\n",
        "\n",
        "TENSOR = torch.tensor([[[1,2,3],\n",
        "                        [3,6,9],\n",
        "                        [2,4,5]]])\n",
        "TENSOR.shape"
      ],
      "metadata": {
        "colab": {
          "base_uri": "https://localhost:8080/"
        },
        "id": "ojZtGgaxETXm",
        "outputId": "a6b1ae79-f959-4420-9e43-7cb9b054ab3d"
      },
      "execution_count": null,
      "outputs": [
        {
          "output_type": "execute_result",
          "data": {
            "text/plain": [
              "torch.Size([1, 3, 3])"
            ]
          },
          "metadata": {},
          "execution_count": 16
        }
      ]
    },
    {
      "cell_type": "code",
      "source": [
        "TENSOR = torch.tensor([[[1,2,3],[1,2,3]]]\n",
        ")\n",
        "TENSOR.shape"
      ],
      "metadata": {
        "colab": {
          "base_uri": "https://localhost:8080/"
        },
        "id": "hxwka995E6Ah",
        "outputId": "881e6fae-4086-4a78-b65b-a9611651dece"
      },
      "execution_count": null,
      "outputs": [
        {
          "output_type": "execute_result",
          "data": {
            "text/plain": [
              "torch.Size([1, 2, 3])"
            ]
          },
          "metadata": {},
          "execution_count": 23
        }
      ]
    },
    {
      "cell_type": "code",
      "source": [
        "vector = torch.tensor([[1,2,3],\n",
        "                       [4,5,6]])\n",
        "vector.shape"
      ],
      "metadata": {
        "colab": {
          "base_uri": "https://localhost:8080/"
        },
        "id": "7N-D1ai9Jhnm",
        "outputId": "d58b32ae-e838-4d02-d90e-e4f7183065cc"
      },
      "execution_count": null,
      "outputs": [
        {
          "output_type": "execute_result",
          "data": {
            "text/plain": [
              "torch.Size([2, 3])"
            ]
          },
          "metadata": {},
          "execution_count": 10
        }
      ]
    },
    {
      "cell_type": "code",
      "source": [
        "#Random Tensors\n",
        "RAND_TENSOR = torch.rand(1,2,3)\n",
        "RAND_TENSOR\n"
      ],
      "metadata": {
        "id": "AuuZGatvLF5F",
        "colab": {
          "base_uri": "https://localhost:8080/"
        },
        "outputId": "33c47a28-7eac-47d2-dbb3-aa2c536f0bb0"
      },
      "execution_count": 24,
      "outputs": [
        {
          "output_type": "execute_result",
          "data": {
            "text/plain": [
              "tensor([[[0.4561, 0.8049, 0.0392],\n",
              "         [0.3941, 0.9171, 0.3499]]])"
            ]
          },
          "metadata": {},
          "execution_count": 24
        }
      ]
    },
    {
      "cell_type": "code",
      "source": [
        "#Zero tensors\n",
        "ZERO_TENSOR = torch.zeros(3,1)\n",
        "ZERO_TENSOR"
      ],
      "metadata": {
        "colab": {
          "base_uri": "https://localhost:8080/"
        },
        "id": "mBpbpX0YOyp4",
        "outputId": "df8dbda5-a8d1-47eb-e135-a46f1361f715"
      },
      "execution_count": 34,
      "outputs": [
        {
          "output_type": "execute_result",
          "data": {
            "text/plain": [
              "tensor([[0.],\n",
              "        [0.],\n",
              "        [0.]])"
            ]
          },
          "metadata": {},
          "execution_count": 34
        }
      ]
    },
    {
      "cell_type": "code",
      "source": [
        "#ONES tensors\n",
        "ONE_T = torch.ones(size=(3,3))\n",
        "ONE_T"
      ],
      "metadata": {
        "colab": {
          "base_uri": "https://localhost:8080/"
        },
        "id": "-qnJK70gRMa7",
        "outputId": "12b00ba1-3027-4423-ecad-aa015e5dd23d"
      },
      "execution_count": 31,
      "outputs": [
        {
          "output_type": "execute_result",
          "data": {
            "text/plain": [
              "tensor([[1., 1., 1.],\n",
              "        [1., 1., 1.],\n",
              "        [1., 1., 1.]])"
            ]
          },
          "metadata": {},
          "execution_count": 31
        }
      ]
    },
    {
      "cell_type": "code",
      "source": [
        "#You can essentially do some masking with these:\n",
        "\n",
        "#For eg I have my one and zero tensors. Lets multiply them and see the result\n",
        "ONE_T*ZERO_TENSOR"
      ],
      "metadata": {
        "colab": {
          "base_uri": "https://localhost:8080/"
        },
        "id": "_nOLINz6RV3D",
        "outputId": "28c2d333-0c9a-476a-a4ee-781e64ab0a41"
      },
      "execution_count": 36,
      "outputs": [
        {
          "output_type": "execute_result",
          "data": {
            "text/plain": [
              "tensor([[0., 0., 0.],\n",
              "        [0., 0., 0.],\n",
              "        [0., 0., 0.]])"
            ]
          },
          "metadata": {},
          "execution_count": 36
        }
      ]
    },
    {
      "cell_type": "code",
      "source": [
        "#Creating numbers in a range\n",
        "one_ten = torch.arange(1,11)\n",
        "one_ten"
      ],
      "metadata": {
        "colab": {
          "base_uri": "https://localhost:8080/"
        },
        "id": "oFgGlCFPRz_i",
        "outputId": "552fba80-cbf5-421b-b067-00f7ef9703d3"
      },
      "execution_count": 37,
      "outputs": [
        {
          "output_type": "execute_result",
          "data": {
            "text/plain": [
              "tensor([ 1,  2,  3,  4,  5,  6,  7,  8,  9, 10])"
            ]
          },
          "metadata": {},
          "execution_count": 37
        }
      ]
    },
    {
      "cell_type": "code",
      "source": [
        "zero_thousand_100 = torch.arange(start=0,end=1001, step=100)\n",
        "zero_thousand_100"
      ],
      "metadata": {
        "colab": {
          "base_uri": "https://localhost:8080/"
        },
        "id": "pGFC4XncTMfW",
        "outputId": "254bf598-250e-4bb4-a7a9-d43848997ddc"
      },
      "execution_count": 41,
      "outputs": [
        {
          "output_type": "execute_result",
          "data": {
            "text/plain": [
              "tensor([   0,  100,  200,  300,  400,  500,  600,  700,  800,  900, 1000])"
            ]
          },
          "metadata": {},
          "execution_count": 41
        }
      ]
    },
    {
      "cell_type": "code",
      "source": [
        "#Creating tensors that are LIKE other tensors\n",
        "zero_like = torch.zeros_like(input=one_ten)\n",
        "zero_like"
      ],
      "metadata": {
        "colab": {
          "base_uri": "https://localhost:8080/"
        },
        "id": "l6eAgKxcTXs5",
        "outputId": "ea013177-fe26-4ad5-e4c6-8361215004f5"
      },
      "execution_count": 42,
      "outputs": [
        {
          "output_type": "execute_result",
          "data": {
            "text/plain": [
              "tensor([0, 0, 0, 0, 0, 0, 0, 0, 0, 0])"
            ]
          },
          "metadata": {},
          "execution_count": 42
        }
      ]
    },
    {
      "cell_type": "code",
      "source": [
        "#Float 32 tensor\n",
        "float_32_TENSOR = torch.tensor([1.0])\n",
        "float_32_TENSOR.dtype"
      ],
      "metadata": {
        "colab": {
          "base_uri": "https://localhost:8080/"
        },
        "id": "08gyC2l2T0-I",
        "outputId": "93c41f1d-bbe4-4a02-bffb-7701b9f2c6c2"
      },
      "execution_count": 6,
      "outputs": [
        {
          "output_type": "execute_result",
          "data": {
            "text/plain": [
              "torch.float32"
            ]
          },
          "metadata": {},
          "execution_count": 6
        }
      ]
    },
    {
      "cell_type": "code",
      "source": [
        "float_16_TENSOR = float_32_TENSOR.type(torch.half)\n",
        "float_16_TENSOR"
      ],
      "metadata": {
        "colab": {
          "base_uri": "https://localhost:8080/"
        },
        "id": "WTXr1ZzwqRqM",
        "outputId": "467a0d95-abfb-4ee6-9c35-5c1bd668dee5"
      },
      "execution_count": 11,
      "outputs": [
        {
          "output_type": "execute_result",
          "data": {
            "text/plain": [
              "tensor([1.], dtype=torch.float16)"
            ]
          },
          "metadata": {},
          "execution_count": 11
        }
      ]
    },
    {
      "cell_type": "markdown",
      "source": [],
      "metadata": {
        "id": "UKE8X5Kvw6B8"
      }
    },
    {
      "cell_type": "markdown",
      "source": [],
      "metadata": {
        "id": "pXCaXBhPw5_M"
      }
    },
    {
      "cell_type": "code",
      "source": [
        "some_tensor = torch.rand((2,3), dtype=torch.float16)\n",
        "some_tensor"
      ],
      "metadata": {
        "colab": {
          "base_uri": "https://localhost:8080/"
        },
        "id": "A86frsPSshEL",
        "outputId": "3caf7970-9709-4580-bc56-09cc9628dd82"
      },
      "execution_count": 25,
      "outputs": [
        {
          "output_type": "execute_result",
          "data": {
            "text/plain": [
              "tensor([[0.2988, 0.6631, 0.6597],\n",
              "        [0.1338, 0.0723, 0.9824]], dtype=torch.float16)"
            ]
          },
          "metadata": {},
          "execution_count": 25
        }
      ]
    },
    {
      "cell_type": "code",
      "source": [
        "mat1 = torch.tensor([1,2,3])\n",
        "mat2 = torch.tensor([1,1,1])\n",
        "print(mat1.shape)\n",
        "\n",
        "mat3 = torch.matmul(mat1, mat2)\n",
        "mat3"
      ],
      "metadata": {
        "colab": {
          "base_uri": "https://localhost:8080/"
        },
        "id": "h-jpl9UMu33r",
        "outputId": "23c943b6-e3b6-4724-eb8c-0271eb4203d5"
      },
      "execution_count": 29,
      "outputs": [
        {
          "output_type": "stream",
          "name": "stdout",
          "text": [
            "torch.Size([3])\n"
          ]
        },
        {
          "output_type": "execute_result",
          "data": {
            "text/plain": [
              "tensor(6)"
            ]
          },
          "metadata": {},
          "execution_count": 29
        }
      ]
    },
    {
      "cell_type": "code",
      "source": [
        "#So for matrix mul obv the columns of the first matrix and the rows of the second matrix\n",
        "# must be the same. The dimension of the resulting matrix will be the rows of the mat1 and\n",
        "# columns of mat2.\n",
        "\n",
        "#This is why:\n",
        "mat1 @ mat2\n",
        "# works even though the 1*3 and 1*3 matrices should technically not work.\n",
        "# They work because if we do tensor.shape we get 3 for both of them therefore\n",
        "# as per torch's rules they can be multiplied\n",
        "\n",
        "#but\n",
        "# torch.rand(1,2)@ torch.rand(3,2) will not work\n",
        "# RuntimeError: mat1 and mat2 shapes cannot be multiplied (1x2 and 3x2)\n",
        "\n",
        "#Normal matrix multiplication works fine\n",
        "t3 = torch.rand(1,2)@torch.rand(2,1)\n",
        "print(t3)\n",
        "t3.shape\n",
        "\n",
        "# and the resulting shape is 1*1\n",
        "\n"
      ],
      "metadata": {
        "colab": {
          "base_uri": "https://localhost:8080/"
        },
        "id": "IPmmMc_F5b8Q",
        "outputId": "ad79f63a-9ddb-4c7a-d4ae-545dcba08150"
      },
      "execution_count": 34,
      "outputs": [
        {
          "output_type": "stream",
          "name": "stdout",
          "text": [
            "tensor([[0.2950]])\n"
          ]
        },
        {
          "output_type": "execute_result",
          "data": {
            "text/plain": [
              "torch.Size([1, 1])"
            ]
          },
          "metadata": {},
          "execution_count": 34
        }
      ]
    },
    {
      "cell_type": "code",
      "source": [
        "# Tensors of shape 3.2 and 3.2 cannot be multiplied\n",
        "# but if we transpose one of them, we get 3.2 and 2.3 which should work\n",
        "\n",
        "tensor_A = torch.tensor([[1,2],\n",
        "            [1,2],\n",
        "            [1,2]])\n",
        "\n",
        "tensor_B = torch.tensor([[2,3],\n",
        "            [2,3],\n",
        "            [2,3]])\n",
        "\n",
        "tensor_A\n",
        "\n",
        "# tensor_A @ tensor_B --> this gives an error\n",
        "tensor_A_transpose = tensor_A.T\n",
        "\n",
        "tensor_A_transpose@tensor_B\n",
        "\n",
        "# tensor.T ; the T gives us the transpose"
      ],
      "metadata": {
        "colab": {
          "base_uri": "https://localhost:8080/"
        },
        "id": "NfLKxvwu7r5m",
        "outputId": "20186a06-2dc2-4b8f-8924-4f3e0a1683a2"
      },
      "execution_count": 40,
      "outputs": [
        {
          "output_type": "execute_result",
          "data": {
            "text/plain": [
              "tensor([[ 6,  9],\n",
              "        [12, 18]])"
            ]
          },
          "metadata": {},
          "execution_count": 40
        }
      ]
    },
    {
      "cell_type": "code",
      "source": [],
      "metadata": {
        "id": "H1i4RQSM9zZR"
      },
      "execution_count": null,
      "outputs": []
    }
  ]
}